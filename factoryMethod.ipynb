{
 "metadata": {
  "language_info": {
   "codemirror_mode": {
    "name": "ipython",
    "version": 3
   },
   "file_extension": ".py",
   "mimetype": "text/x-python",
   "name": "python",
   "nbconvert_exporter": "python",
   "pygments_lexer": "ipython3",
   "version": "3.8.10"
  },
  "orig_nbformat": 4,
  "kernelspec": {
   "name": "python3",
   "display_name": "Python 3.8.10 64-bit ('GPU': conda)"
  },
  "interpreter": {
   "hash": "d2ad43d291732c42def0f2d6b26b1d68ae47b7a6cc681be8bc3141fed2ba41bf"
  }
 },
 "nbformat": 4,
 "nbformat_minor": 2,
 "cells": [
  {
   "source": [
    "<h1>\n",
    "    Yöntem 1\n",
    "</h1>"
   ],
   "cell_type": "markdown",
   "metadata": {}
  },
  {
   "cell_type": "code",
   "execution_count": null,
   "metadata": {},
   "outputs": [],
   "source": [
    "\n",
    "\n",
    "def Factory(language =\"English\"):\n",
    "  \n",
    "    \"\"\"Factory Method\"\"\"\n",
    "    localizers = {\n",
    "        \"French\": FrenchLocalizer,\n",
    "        \"English\": EnglishLocalizer,\n",
    "        \"Spanish\": SpanishLocalizer,\n",
    "    }\n",
    "  \n",
    "    return localizers[language]()\n"
   ]
  },
  {
   "cell_type": "code",
   "execution_count": 23,
   "metadata": {},
   "outputs": [
    {
     "output_type": "stream",
     "name": "stdout",
     "text": [
      "<img></img>\n<input></input>\n<obj></obj>\n"
     ]
    }
   ],
   "source": [
    "class Button(object):\n",
    "   html = \"\"\n",
    "   def get_html(self):\n",
    "      return self.html\n",
    "\n",
    "class Image(Button):\n",
    "   html = \"<img></img>\"\n",
    "\n",
    "class Input(Button):\n",
    "   html = \"<input></input>\"\n",
    "\n",
    "class Flash(Button):\n",
    "   html = \"<obj></obj>\"\n",
    "\n",
    "class ButtonFactory():\n",
    "   def create_button(self, typ):\n",
    "      targetclass = typ.capitalize()\n",
    "      return globals()[targetclass]()\n",
    "\n",
    "button_obj = ButtonFactory()\n",
    "button = ['image', 'input', 'flash']\n",
    "\n",
    "for b in button:\n",
    "   print (button_obj.create_button(b).get_html())"
   ]
  },
  {
   "source": [
    "<h1>\n",
    "    Yöntem 2\n",
    "</h1>"
   ],
   "cell_type": "markdown",
   "metadata": {}
  },
  {
   "cell_type": "code",
   "execution_count": 1,
   "metadata": {},
   "outputs": [
    {
     "output_type": "stream",
     "name": "stdout",
     "text": [
      "red\n"
     ]
    }
   ],
   "source": [
    "\n",
    "def init(self, color):\n",
    "    self.color = color\n",
    "  \n",
    "def getColor(self):\n",
    "    return self.color\n",
    "\n",
    "Apple = type('Apple', (object,), {\n",
    "    '__init__': init,\n",
    "    'getColor': getColor,\n",
    "})\n",
    "  \n",
    "appleRed = Apple(color='red')\n",
    "print(appleRed.getColor())"
   ]
  },
  {
   "source": [
    "<h1>\n",
    "    Yöntem 3 : Override yaparak class üretme\n",
    "</h1>"
   ],
   "cell_type": "markdown",
   "metadata": {}
  },
  {
   "cell_type": "code",
   "execution_count": null,
   "metadata": {},
   "outputs": [],
   "source": [
    "\n",
    "class Apple(object):\n",
    "    color = 'red'\n",
    "  \n",
    "    @classmethod\n",
    "    def classapple(cls):\n",
    "        return cls.color\n",
    "  \n",
    "  \n",
    "def create_Apple_subclass(new_color):\n",
    "    class SubApple(Apple):\n",
    "        color = new_color\n",
    "    return SubApple\n",
    "  \n",
    "  \n",
    "sappleYellow = create_Apple_subclass('Yellow')\n",
    "print(\"Apple Color: \", sappleYellow.classapple())\n",
    "  \n",
    "sappleGreen = create_Apple_subclass('Green')\n",
    "print(\"Apple Color: \", sappleGreen.classapple())"
   ]
  },
  {
   "source": [
    "<h1>\n",
    "    Yöntem 4: Decorator ile obje oluşturma\n",
    "</h1>"
   ],
   "cell_type": "markdown",
   "metadata": {}
  },
  {
   "cell_type": "code",
   "execution_count": null,
   "metadata": {},
   "outputs": [],
   "source": [
    "from abc import ABC, abstractmethod\n",
    "\n",
    "class WaterTank(ABC):\n",
    "    @abstractmethod\n",
    "    def get_capacity(self):\n",
    "        pass\n",
    "\n",
    "class WaterTankFactory(WaterTank):\n",
    "    def __init__(self, capacity):\n",
    "        self.__capacity = capacity\n",
    "    def get_capacity(self):\n",
    "        return self.__capacity\n",
    "    @classmethod\n",
    "    def set_capacity(cls, capacityRequired):\n",
    "        return cls(capacityRequired)"
   ]
  },
  {
   "source": [
    "<h1>\n",
    "    Yöntem 5: Class adı değiştirerek\n",
    "</h1>"
   ],
   "cell_type": "markdown",
   "metadata": {}
  },
  {
   "cell_type": "code",
   "execution_count": null,
   "metadata": {},
   "outputs": [],
   "source": [
    "class FactoryMatch:\n",
    "\n",
    "    def __init__(self, recogName, detectName):\n",
    "        pass\n",
    "    \n",
    "    @staticmethod\n",
    "    def factory(self, recogName, detectName) :\n",
    "        class NewClass(detectName): pass\n",
    "        NewClass.__name__ = recogName\n",
    "        return NewClass"
   ]
  }
 ]
}