{
 "metadata": {
  "language_info": {
   "codemirror_mode": {
    "name": "ipython",
    "version": 3
   },
   "file_extension": ".py",
   "mimetype": "text/x-python",
   "name": "python",
   "nbconvert_exporter": "python",
   "pygments_lexer": "ipython3",
   "version": "3.8.10"
  },
  "orig_nbformat": 4,
  "kernelspec": {
   "name": "python3",
   "display_name": "Python 3.8.10 64-bit ('GPU': conda)"
  },
  "interpreter": {
   "hash": "d2ad43d291732c42def0f2d6b26b1d68ae47b7a6cc681be8bc3141fed2ba41bf"
  }
 },
 "nbformat": 4,
 "nbformat_minor": 2,
 "cells": [
  {
   "cell_type": "markdown",
   "source": [
    "<h1> THREAD UYGULAMA 1: </h1>\n"
   ],
   "metadata": {}
  },
  {
   "cell_type": "code",
   "execution_count": null,
   "source": [
    "import threading\r\n",
    "import time\r\n",
    "import dis"
   ],
   "outputs": [],
   "metadata": {}
  },
  {
   "cell_type": "code",
   "execution_count": null,
   "source": [
    "counter = 0;\r\n",
    "\r\n",
    "def A():\r\n",
    "    global counter;\r\n",
    "\r\n",
    "    while True:\r\n",
    "        counter += 1\r\n",
    "        counter -= 1\r\n",
    "        print(counter)\r\n",
    "\r\n",
    "def B():\r\n",
    "    global counter;\r\n",
    "\r\n",
    "    while True:\r\n",
    "        counter += 1\r\n",
    "        counter -= 1\r\n",
    "        print(counter)\r\n",
    "threading.Thread(target=A).start()\r\n",
    "threading.Thread(target=B).start()"
   ],
   "outputs": [],
   "metadata": {}
  },
  {
   "cell_type": "code",
   "execution_count": null,
   "source": [
    "#ByteCode\r\n",
    "dis.dis(A)"
   ],
   "outputs": [],
   "metadata": {
    "tags": []
   }
  },
  {
   "cell_type": "code",
   "execution_count": null,
   "source": [
    "#Threadlerin kontrolsüz çalışmasını engellemek için with lock kullanılır\r\n",
    "\r\n",
    "def A():\r\n",
    "    global counter;\r\n",
    "\r\n",
    "    while True:\r\n",
    "        with lock:\r\n",
    "            counter += 1\r\n",
    "            counter -= 1\r\n",
    "            print(counter)\r\n",
    "\r\n",
    "def B():\r\n",
    "    global counter;\r\n",
    "\r\n",
    "    while True:\r\n",
    "        with lock:\r\n",
    "            counter += 1\r\n",
    "            counter -= 1\r\n",
    "            print(counter)\r\n",
    "\r\n",
    "threading.Thread(target=A).start()\r\n",
    "threading.Thread(target=B).start()"
   ],
   "outputs": [],
   "metadata": {}
  },
  {
   "cell_type": "markdown",
   "source": [
    "<h4>THREAD UYGULAMA 1: ASYNCIO ile yazılışları <h4>"
   ],
   "metadata": {}
  },
  {
   "cell_type": "code",
   "execution_count": null,
   "source": [
    "import asyncio\r\n",
    "import time\r\n",
    "import threading"
   ],
   "outputs": [],
   "metadata": {}
  },
  {
   "cell_type": "code",
   "execution_count": null,
   "source": [
    "counter = 0;\r\n",
    "\r\n",
    "async def A():\r\n",
    "    global counter;\r\n",
    "\r\n",
    "    while True:\r\n",
    "        counter += 1\r\n",
    "        counter -= 1\r\n",
    "        print(counter)\r\n",
    "\r\n",
    "async def B():\r\n",
    "    global counter;\r\n",
    "\r\n",
    "    while True:\r\n",
    "        counter += 1\r\n",
    "        counter -= 1\r\n",
    "        print(counter)\r\n",
    "threading.Thread(target=A).start()\r\n",
    "threading.Thread(target=B).start()"
   ],
   "outputs": [],
   "metadata": {}
  },
  {
   "cell_type": "markdown",
   "source": [
    "Daemon THREAD"
   ],
   "metadata": {}
  },
  {
   "cell_type": "code",
   "execution_count": null,
   "source": [
    "import threading\r\n",
    "import time\r\n",
    "\r\n",
    "def zaman(): \r\n",
    "    while True:\r\n",
    "        time.sleep(1)\r\n",
    "        print(time.ctime(time.time()))\r\n",
    "\r\n",
    "def calistir(threadName):\r\n",
    "    for i in range(5):\r\n",
    "        time.sleep(1)\r\n",
    "        print(threadName ,\"çalışıyor\")\r\n",
    "\r\n",
    "t1 = threading.Thread(target=zaman, daemon=True)\r\n",
    "t2 = threading.Thread(target=calistir, args = (\"thread-2\", ))\r\n",
    "\r\n",
    "t1.start()\r\n",
    "t2.start()"
   ],
   "outputs": [],
   "metadata": {}
  },
  {
   "cell_type": "markdown",
   "source": [
    "<h4> Thread Sırası ve Queue Önemi </h4>"
   ],
   "metadata": {}
  },
  {
   "cell_type": "code",
   "execution_count": null,
   "source": [
    "import threading, queue\r\n",
    "\r\n",
    "liste = ['Ankara','İstanbul','Kayseri']\r\n",
    "\r\n",
    "def islem(q):\r\n",
    "    global liste\r\n",
    "    print(f\"{q} Çıkarılacak eleman: {liste[len(liste)-1]}\")\r\n",
    "    #print(threading.activeCount())  #çalışan thread sayısı\r\n",
    "    #print(threading.enumerate())    #çalışan thread listesi\r\n",
    "    #print(threading.main_thread())  #main thread\r\n",
    "    #print(threading.get_ident())    #thread tanımlayıcısı\r\n",
    "    liste.pop()\r\n",
    "\r\n",
    "\r\n",
    "for i in liste:\r\n",
    "    for i in range(2):\r\n",
    "        worker = threading.Thread(target=islem, args=(f\"Thread-{i}\",), daemon=True)\r\n",
    "        worker.start()"
   ],
   "outputs": [],
   "metadata": {}
  },
  {
   "cell_type": "code",
   "execution_count": 7,
   "source": [
    "import threading, queue\r\n",
    "import time\r\n",
    "\r\n",
    "q = queue.Queue()\r\n",
    "\r\n",
    "liste = ['Ankara','İstanbul','Kayseri','Adana','İzmir']\r\n",
    "\r\n",
    "def islem(threadName,q):\r\n",
    "    global liste\r\n",
    "    while not q.empty():\r\n",
    "        item = q.get()\r\n",
    "        print(f\"{threadName} Çıkarılacak eleman: {item}\")\r\n",
    "        time.sleep(5)    \r\n",
    "        q.task_done() #Sonraki elemanın kullanılabileceğini söyleriz - unlock\r\n",
    "\r\n",
    "for i in liste:\r\n",
    "    q.put(i)\r\n",
    "\r\n",
    "for i in range(2):\r\n",
    "    threading.Thread(target=islem, args=(f\"Thread-{i}\",q), daemon=True).start()\r\n",
    "q.join() #Liste boşalana kadar programı kapatmaz. Eğer \"Daemon Thread\" kullanıyorsak programın erken kapanmaması için kullanmalıyız."
   ],
   "outputs": [
    {
     "output_type": "stream",
     "name": "stdout",
     "text": [
      "Thread-0 Çıkarılacak eleman: Ankara\n",
      "Thread-1 Çıkarılacak eleman: İstanbul\n",
      "Thread-2 Çıkarılacak eleman: Kayseri\n",
      "Thread-3 Çıkarılacak eleman: Adana\n",
      "Thread-2 Çıkarılacak eleman: İzmir\n"
     ]
    }
   ],
   "metadata": {}
  },
  {
   "cell_type": "markdown",
   "source": [
    "<h1> MULTI-PROSESSING </h1>"
   ],
   "metadata": {}
  },
  {
   "cell_type": "code",
   "execution_count": null,
   "source": [
    "import multiprocessing\r\n",
    "def spawn():\r\n",
    "  print('test!')\r\n",
    "\r\n",
    "if __name__ == '__main__':\r\n",
    "  for i in range(5):\r\n",
    "    p = multiprocessing.Process(target=spawn)\r\n",
    "    p.start()\r\n",
    "    p.join() #Liste boşalana kadar programı kapatmaz. Eğer \"Daemon Thread\" kullanıyorsak programın erken kapanmaması için kullanmalıyız."
   ],
   "outputs": [],
   "metadata": {}
  },
  {
   "cell_type": "code",
   "execution_count": null,
   "source": [
    "import sys\r\n",
    "sys.stdout.flush()"
   ],
   "outputs": [],
   "metadata": {}
  },
  {
   "cell_type": "code",
   "execution_count": null,
   "source": [],
   "outputs": [],
   "metadata": {}
  }
 ]
}